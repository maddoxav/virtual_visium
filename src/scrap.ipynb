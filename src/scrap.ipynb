{
 "cells": [
  {
   "cell_type": "code",
   "execution_count": null,
   "id": "8226881b-1b47-4b30-8734-23f3980d0b40",
   "metadata": {},
   "outputs": [],
   "source": [
    "import openslide\n",
    "from pathlib import Path\n",
    "from PIL import Image\n",
    "import matplotlib.pyplot as plt\n",
    "import numpy as np"
   ]
  },
  {
   "cell_type": "code",
   "execution_count": null,
   "id": "7e799ce3-5e04-4abd-b4ed-46a74bb617db",
   "metadata": {},
   "outputs": [],
   "source": [
    "base_path = Path('/mnt/z/shared_data/GBM_spatial_transcriptomics')\n",
    "sample_1512_path = base_path / 'Sample-1512/Images'\n",
    "tif_1512_A_path = sample_1512_path / '20H214_Al-Holou_GEX_Slide_Square_A.tif'"
   ]
  },
  {
   "cell_type": "code",
   "execution_count": null,
   "id": "46280225-42f7-47b6-9132-7974da051137",
   "metadata": {},
   "outputs": [],
   "source": [
    "# Important to tile (and optionally pyramidize) the tiffs if they aren't yet\n",
    "# !vips im_vips2tiff /mnt/z/shared_data/GBM_spatial_transcriptomics/Sample-1512/Images/20H214_Al-Holou_GEX_Slide_Square_A.tif '../h&e_images/20H214_Al-Holou_GEX_Slide_Square_A_tiled.tif:none,tile:256x256,pyramid'\n",
    "# !vips im_vips2tiff /mnt/z/shared_data/GBM_spatial_transcriptomics/Sample-1512/Images/20H214_Al-Holou_GEX_Slide_Square_B.tif '../h&e_images/20H214_Al-Holou_GEX_Slide_Square_B_tiled.tif:none,tile:256x256,pyramid'\n",
    "# !vips im_vips2tiff /mnt/z/shared_data/GBM_spatial_transcriptomics/Sample-1512/Images/20H214_Al-Holou_GEX_Slide_Square_C.tif '../h&e_images/20H214_Al-Holou_GEX_Slide_Square_C_tiled.tif:none,tile:256x256,pyramid'\n",
    "# !vips im_vips2tiff /mnt/z/shared_data/GBM_spatial_transcriptomics/Sample-1512/Images/20H214_Al-Holou_GEX_Slide_Square_C.tif '../h&e_images/20H214_Al-Holou_GEX_Slide_Square_C_tiled.tif:none,tile:256x256,pyramid'"
   ]
  },
  {
   "cell_type": "code",
   "execution_count": null,
   "id": "45f0a04f-5b03-46c8-8b0d-1d8a36967b22",
   "metadata": {},
   "outputs": [],
   "source": [
    "slide = openslide.OpenSlide('../h&e_images/20H214_Al-Holou_GEX_Slide_Square_A_tiled.tif')"
   ]
  },
  {
   "cell_type": "code",
   "execution_count": null,
   "id": "40ad2628-6ac4-4752-a261-c1c81e98f9dd",
   "metadata": {},
   "outputs": [],
   "source": [
    "slide.get_thumbnail((256,256))"
   ]
  },
  {
   "cell_type": "code",
   "execution_count": null,
   "id": "fb3bad09-b477-4dd8-a1a4-0166cb3f3125",
   "metadata": {
    "collapsed": true,
    "jupyter": {
     "outputs_hidden": true
    },
    "tags": []
   },
   "outputs": [],
   "source": [
    "slide.properties"
   ]
  },
  {
   "cell_type": "code",
   "execution_count": null,
   "id": "01a5102b-13cb-43c6-a5e0-034fc8c0c184",
   "metadata": {},
   "outputs": [],
   "source": [
    "import pyvips"
   ]
  },
  {
   "cell_type": "code",
   "execution_count": null,
   "id": "a7e93c79-f640-48b3-b643-9915a1096f16",
   "metadata": {},
   "outputs": [],
   "source": [
    "in_img = pyvips.Image.new_from_file(str(tif_1512_A_path))\n",
    "in_img.tiffsave('../h&e_images/pyvips_test_img_A.tif',\n",
    "                compression='none',\n",
    "                tile=True,\n",
    "                tile_width=256,\n",
    "                tile_height=256,\n",
    "                pyramid=True\n",
    "               )"
   ]
  },
  {
   "cell_type": "code",
   "execution_count": null,
   "id": "5a5ea559-4b59-415e-940f-ed82ec962a02",
   "metadata": {},
   "outputs": [],
   "source": [
    "slide2 = openslide.OpenSlide('../h&e_images/pyvips_test_img_A.tif')\n",
    "slide2.get_thumbnail((256,256))"
   ]
  },
  {
   "cell_type": "code",
   "execution_count": null,
   "id": "5d2120d3-fb00-4aeb-9a88-0e7d8ea32a53",
   "metadata": {},
   "outputs": [],
   "source": [
    "from normalize_HnE import norm_HnE"
   ]
  },
  {
   "cell_type": "code",
   "execution_count": null,
   "id": "532b2157-72a6-4b26-a6dd-8692a9986a0c",
   "metadata": {},
   "outputs": [],
   "source": [
    "slide2.level_dimensions"
   ]
  },
  {
   "cell_type": "code",
   "execution_count": null,
   "id": "d4505c2f-a3a7-4ebd-a123-2b60c9d99fa8",
   "metadata": {},
   "outputs": [],
   "source": [
    "img = slide2.read_region((7800,7900), 1, (1024,1024))\n",
    "img = img.convert('RGB')\n",
    "img = np.array(img)\n",
    "\n",
    "plt.imshow(img)"
   ]
  },
  {
   "cell_type": "code",
   "execution_count": null,
   "id": "7657e14e-cb59-4bd6-b48f-5cf7650b500c",
   "metadata": {},
   "outputs": [],
   "source": [
    "img_norm, h_img, e_img = norm_HnE(img)\n",
    "\n",
    "plt.figure(figsize=(12, 12))\n",
    "plt.subplot(221)\n",
    "plt.title('Original Image')\n",
    "plt.imshow(img)\n",
    "plt.subplot(222)\n",
    "plt.title('Normalized Image')\n",
    "plt.imshow(img_norm)\n",
    "plt.subplot(223)\n",
    "plt.title('H image')\n",
    "plt.imshow(h_img)\n",
    "plt.subplot(224)\n",
    "plt.title('E image')\n",
    "plt.imshow(e_img)\n",
    "plt.show()"
   ]
  },
  {
   "cell_type": "code",
   "execution_count": null,
   "id": "ee1e8060-d197-49f9-8c41-942cab489b17",
   "metadata": {},
   "outputs": [],
   "source": [
    "import os   \n",
    "# replace with path to your own vips bin folder\n",
    "VIPSHOME = 'C:\\\\Users\\\\maddoxav\\\\vips-dev-w64-web-8.12.2\\\\vips-dev-8.12\\\\bin'\n",
    "with os.add_dll_directory(VIPSHOME):\n",
    "    import pyvips\n",
    "\n",
    "import numpy as np\n",
    "import matplotlib.pyplot as plt\n",
    "from pathlib import Path \n"
   ]
  },
  {
   "cell_type": "code",
   "execution_count": null,
   "id": "e3f273b0",
   "metadata": {},
   "outputs": [],
   "source": [
    "data_path = Path(\"c:/Users/maddoxav/OneDrive - Michigan Medicine/Documents/Rao_Lab/data\")\n",
    "tif_1512_path = data_path / \"GBM_spatial_transcriptomics/Sample-1512/Images\"\n",
    "tif_1512_A_path = tif_1512_path / \"20H214_Al-Holou_GEX_Slide_Square_A.tif\"\n",
    "wsi_1512_A_path = tif_1512_path / \"TP_20H214_Al-Holou_GEX_Slide_Square_A.tif\"\n",
    "in_img = pyvips.Image.new_from_file(str(tif_1512_A_path))\n"
   ]
  },
  {
   "cell_type": "code",
   "execution_count": null,
   "id": "3103a545",
   "metadata": {},
   "outputs": [],
   "source": [
    "in_img.tiffsave(str(wsi_1512_A_path),\n",
    "                compression='none',\n",
    "                tile=True,\n",
    "                tile_width=256,\n",
    "                tile_height=256,\n",
    "                pyramid=True\n",
    "                )"
   ]
  },
  {
   "cell_type": "code",
   "execution_count": null,
   "id": "499036c3",
   "metadata": {},
   "outputs": [],
   "source": [
    "list(tif_1512_path.glob('*.tif'))\n",
    "def tile_pyramidize(tif_dir, dest_dir):\n",
    "    "
   ]
  },
  {
   "cell_type": "code",
   "execution_count": null,
   "id": "f408c6e3",
   "metadata": {},
   "outputs": [],
   "source": [
    "import os\n",
    "# replace with path to your own openslide bin folder\n",
    "OPENSLIDE_PATH = 'C:\\\\Users\\\\maddoxav\\\\openslide-win64-20171122\\\\openslide-win64-20171122\\\\bin'\n",
    "with os.add_dll_directory(OPENSLIDE_PATH):\n",
    "    import openslide \n",
    "    from openslide import open_slide"
   ]
  },
  {
   "cell_type": "code",
   "execution_count": null,
   "id": "e7f6722c",
   "metadata": {},
   "outputs": [],
   "source": [
    "from pyarrow import feather"
   ]
  },
  {
   "cell_type": "code",
   "execution_count": null,
   "id": "5ac01d62",
   "metadata": {},
   "outputs": [],
   "source": [
    "df_path = r\"C:\\Users\\maddoxav\\OneDrive - Michigan Medicine\\Documents\\Rao_Lab\\data\\GBM_spatial_transcriptomics\\assay_data\\s1512_count_mat.feather\"\n",
    "df = feather.read_feather(df_path)"
   ]
  },
  {
   "cell_type": "code",
   "execution_count": null,
   "id": "9729f68c",
   "metadata": {},
   "outputs": [],
   "source": [
    "df.head()"
   ]
  },
  {
   "cell_type": "code",
   "execution_count": null,
   "id": "6588200d",
   "metadata": {},
   "outputs": [],
   "source": [
    "xs, ys  = zip(*[x.split('.') for x in list(df.columns[1:])])"
   ]
  },
  {
   "cell_type": "code",
   "execution_count": null,
   "id": "bf1e7ff6",
   "metadata": {},
   "outputs": [],
   "source": [
    "import numpy as np\n",
    "nxs = np.array(xs)\n",
    "nys = np.array(ys)\n",
    "len(np.unique(nxs))"
   ]
  },
  {
   "cell_type": "code",
   "execution_count": null,
   "id": "05aa7e8a",
   "metadata": {},
   "outputs": [],
   "source": [
    "len(np.unique(nys))"
   ]
  },
  {
   "cell_type": "code",
   "execution_count": null,
   "id": "5dbf21a2",
   "metadata": {},
   "outputs": [],
   "source": [
    "np.unique(nys)"
   ]
  },
  {
   "cell_type": "code",
   "execution_count": null,
   "id": "09dbe283",
   "metadata": {},
   "outputs": [],
   "source": [
    "fpath = r\"C:\\Users\\maddoxav\\OneDrive - Michigan Medicine\\Documents\\Rao_Lab\\data\\GBM_spatial_transcriptomics\\assay_data\\brain1A-s4774-count_mat.feather\"\n",
    "df = feather.read_feather(fpath)"
   ]
  },
  {
   "cell_type": "code",
   "execution_count": null,
   "id": "bb2adaad",
   "metadata": {},
   "outputs": [],
   "source": [
    "df.head()\n"
   ]
  },
  {
   "cell_type": "code",
   "execution_count": null,
   "id": "2e339756",
   "metadata": {},
   "outputs": [],
   "source": [
    "fpath = r\"C:\\Users\\maddoxav\\OneDrive - Michigan Medicine\\Documents\\Rao_Lab\\data\\GBM_spatial_transcriptomics\\assay_data\\brain1A-s4774-tc.feather\"\n",
    "df = feather.read_feather(fpath)\n"
   ]
  },
  {
   "cell_type": "code",
   "execution_count": null,
   "id": "9449e968",
   "metadata": {},
   "outputs": [],
   "source": [
    "df.head()"
   ]
  },
  {
   "cell_type": "code",
   "execution_count": null,
   "id": "06a34580",
   "metadata": {},
   "outputs": [],
   "source": [
    "assay_data_dir = Path(r\"C:\\Users\\maddoxav\\OneDrive - Michigan Medicine\\Documents\\Rao_Lab\\data\\GBM_spatial_transcriptomics\\assay_data\") \n",
    "md_fname = assay_data_dir / \"brain1A-s4774-count_mat.feather\" \n",
    "tc_fname = assay_data_dir / \"brain1A-s4774-tc.feather\"\n",
    "md = feather.read_feather(md_fname)\n",
    "tc = feather.read_feather(tc_fname)"
   ]
  },
  {
   "cell_type": "code",
   "execution_count": null,
   "id": "f5890830",
   "metadata": {},
   "outputs": [],
   "source": [
    "md.head()"
   ]
  },
  {
   "cell_type": "code",
   "execution_count": null,
   "id": "56872936",
   "metadata": {},
   "outputs": [],
   "source": [
    "tc.head()"
   ]
  },
  {
   "cell_type": "code",
   "execution_count": null,
   "id": "8d844b14",
   "metadata": {},
   "outputs": [],
   "source": []
  }
 ],
 "metadata": {
  "kernelspec": {
   "display_name": "Python 3.10.5 ('virtual_visium_venv': venv)",
   "language": "python",
   "name": "python3"
  },
  "language_info": {
   "codemirror_mode": {
    "name": "ipython",
    "version": 3
   },
   "file_extension": ".py",
   "mimetype": "text/x-python",
   "name": "python",
   "nbconvert_exporter": "python",
   "pygments_lexer": "ipython3",
   "version": "3.10.5"
  },
  "vscode": {
   "interpreter": {
    "hash": "463b328f0111cb10614d6b69ea55550fe949b94da737287f07b953564a66f795"
   }
  }
 },
 "nbformat": 4,
 "nbformat_minor": 5
}
